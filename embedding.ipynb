{
 "cells": [
  {
   "cell_type": "markdown",
   "metadata": {},
   "source": [
    "## Imports"
   ]
  },
  {
   "cell_type": "code",
   "execution_count": 1,
   "metadata": {},
   "outputs": [],
   "source": [
    "import os, glob\n",
    "import time\n",
    "from langchain_mistralai import MistralAIEmbeddings, ChatMistralAI\n",
    "from pinecone import Pinecone, ServerlessSpec\n",
    "from langchain_pinecone import PineconeVectorStore\n",
    "from dotenv import load_dotenv"
   ]
  },
  {
   "cell_type": "markdown",
   "metadata": {},
   "source": [
    "Loading API keys\n"
   ]
  },
  {
   "cell_type": "code",
   "execution_count": 2,
   "metadata": {},
   "outputs": [],
   "source": [
    "load_dotenv(\"chatbot.env\")\n",
    "mistral_api_key = os.environ[\"MISTRAL_API_KEY\"]\n",
    "pinecone_api_key = os.environ[\"PINECONE_API_KEY\"]"
   ]
  },
  {
   "cell_type": "markdown",
   "metadata": {},
   "source": [
    "Initiating embedding, vectorstore, and chat wrapper models"
   ]
  },
  {
   "cell_type": "code",
   "execution_count": 7,
   "metadata": {},
   "outputs": [],
   "source": [
    "import time, logging\n",
    "from typing import List\n",
    "logger = logging.getLogger(__name__)\n",
    "class MistralAIEmbeddingsWithPause(MistralAIEmbeddings):\n",
    "    def __init__(self, api_key:str):\n",
    "        super().__init__(api_key=api_key)\n",
    "    \n",
    "    def embed_documents(self, texts: List[str]) -> List[List[float]]:\n",
    "        \"\"\"Embed a list of document texts.\n",
    "\n",
    "        Args:\n",
    "            texts: The list of texts to embed.\n",
    "\n",
    "        Returns:\n",
    "            List of embeddings, one for each text.\n",
    "        \"\"\"\n",
    "        try:\n",
    "            batch_responses = []\n",
    "            for batch in self._get_batches(texts):\n",
    "                batch_responses.append(\n",
    "                    self.client.post(\n",
    "                    url=\"/embeddings\",\n",
    "                    json=dict(\n",
    "                        model=self.model,\n",
    "                        input=batch,\n",
    "                    ),\n",
    "                )\n",
    "            )\n",
    "                time.sleep(1.6)\n",
    "            batch_responses = tuple(batch_responses)\n",
    "            return [\n",
    "                list(map(float, embedding_obj[\"embedding\"]))\n",
    "                for response in batch_responses\n",
    "                for embedding_obj in response.json()[\"data\"]\n",
    "            ]\n",
    "        except Exception as e:\n",
    "            logger.error(f\"An error occurred with MistralAI: {e}\")\n",
    "            raise"
   ]
  },
  {
   "cell_type": "code",
   "execution_count": 8,
   "metadata": {},
   "outputs": [
    {
     "name": "stderr",
     "output_type": "stream",
     "text": [
      "c:\\Users\\Jerry H\\.conda\\envs\\chatbot\\Lib\\site-packages\\langchain_mistralai\\embeddings.py:175: UserWarning: Could not download mistral tokenizer from Huggingface for calculating batch sizes. Set a Huggingface token via the HF_TOKEN environment variable to download the real tokenizer. Falling back to a dummy tokenizer that uses `len()`.\n",
      "  warnings.warn(\n"
     ]
    }
   ],
   "source": [
    "embed = MistralAIEmbeddingsWithPause(api_key=mistral_api_key)\n",
    "chat = ChatMistralAI(api_key=mistral_api_key)\n",
    "pc = Pinecone(api_key = pinecone_api_key)\n",
    "lnt_index = pc.Index(name=\"diircb-lntguides\")\n",
    "vector_store = PineconeVectorStore(embedding=embed, index=lnt_index)\n"
   ]
  },
  {
   "cell_type": "markdown",
   "metadata": {},
   "source": [
    "Load & chunk source documents"
   ]
  },
  {
   "cell_type": "code",
   "execution_count": 9,
   "metadata": {},
   "outputs": [],
   "source": [
    "from langchain_community.document_loaders import DirectoryLoader\n",
    "from langchain_text_splitters import MarkdownTextSplitter, CharacterTextSplitter\n",
    "docs_path = sorted(glob.glob(\"data/src_docs/*.txt\"))\n",
    "len(docs_path)\n",
    "global_chunks = [] \n",
    "pages = []\n",
    "mdSplitter = MarkdownTextSplitter()\n",
    "charSplitter = CharacterTextSplitter(\n",
    "    separator=\"\\n\\n\",\n",
    "    chunk_size=1024,\n",
    "    chunk_overlap=200,\n",
    "    length_function=len,\n",
    "    is_separator_regex=False,\n",
    ")\n"
   ]
  },
  {
   "cell_type": "code",
   "execution_count": 14,
   "metadata": {},
   "outputs": [
    {
     "name": "stderr",
     "output_type": "stream",
     "text": [
      "100%|██████████| 6/6 [00:00<00:00, 10.19it/s]\n",
      "Created a chunk of size 1680, which is longer than the specified 1024\n",
      "Created a chunk of size 1723, which is longer than the specified 1024\n",
      "Created a chunk of size 1358, which is longer than the specified 1024\n",
      "Created a chunk of size 1105, which is longer than the specified 1024\n"
     ]
    },
    {
     "name": "stdout",
     "output_type": "stream",
     "text": [
      "73\n",
      "3993\n",
      "By way of further explanation of some of the equipment listed in the table, suction is an extremely important component of airway management. It can be provided at a low cost by manual and foot pump devices. These should be considered essential in any hospital. Likewise, a stiff suction tip (Yankauer or equivalent) is an essential component of an adequate suction set up. The term “basic trauma pack” implies a kit with a few basic instruments and supplies, including a scalpel, clamps, scissors, g\n"
     ]
    }
   ],
   "source": [
    "from langchain_community.document_loaders import TextLoader\n",
    "# Load all pdf & chunking \n",
    "pdfLoader = DirectoryLoader(path=\"data/src_docs\", glob=\"**/*.txt\", show_progress=True)\n",
    "doc_chunks = mdSplitter.split_documents(pdfLoader.load())\n",
    "chunks = charSplitter.split_documents(doc_chunks)\n",
    "print(len(chunks))\n",
    "print(max([len(chunk.page_content) for chunk in chunks]))\n",
    "print(chunks[1].page_content[:500])"
   ]
  },
  {
   "cell_type": "markdown",
   "metadata": {},
   "source": [
    "# Load all pdf & chunking \n",
    "for idx, path in enumerate(docs_path):\n",
    "    print(path)\n",
    "    pdfLoader = DirectoryLoader(path=\"data/src_docs\", glob=\"**/*.txt\", show_progress=True)\n",
    "    doc_chunks = mdSplitter.split_documents(pdfLoader.load())\n",
    "    chunks = charSplitter.split_documents(doc_chunks)\n",
    "    print(len(chunks))\n",
    "    global_chunks += chunks\n",
    "    print(f\"{idx+1}/{len(docs_path)} documents loaded\")\n",
    "print(len(global_chunks))\n",
    "print(max([len(chunk.page_content) for chunk in global_chunks]))\n",
    "print(global_chunks[1].page_content[:100])"
   ]
  },
  {
   "cell_type": "markdown",
   "metadata": {},
   "source": [
    "Embed & store\n"
   ]
  },
  {
   "cell_type": "code",
   "execution_count": 15,
   "metadata": {},
   "outputs": [
    {
     "name": "stdout",
     "output_type": "stream",
     "text": [
      "['931f5dc7-41af-4a42-9cb7-26e7e41498d2', '9c36bd13-dd82-440c-9bd0-dab2e3913776', 'ef7e6adf-848a-4736-9e97-3779570474dc', 'a712658a-4dfa-47f2-9b2f-312e0147c349', '55c34f9e-2df4-41f5-8cd4-74d30f98cd1b', 'd4181b78-a040-4dc7-8362-c58a8d873810', '47a88aae-60d9-4fa3-b07f-4a4bbbf8446c', '41e06a4d-4b19-4425-b128-a3b529d38351', '35ef5ea1-23ea-41af-a24e-e7850427a8d3', '3b371fd2-01ec-4f8f-9c69-2b81caa7a7cb', '4f61ef2d-5615-4587-8bf2-8d103ac59e32', '6f55f16d-6961-46c6-b712-4ac8577a6404', '1aa86b04-cc02-4c10-b5a6-ac80dc7bc58d', '1e6917e1-35d4-4ff1-815c-051a9f34134b', '62afba42-4b64-4695-981d-01afebf0a438', 'c0370e4f-51cf-4f65-b336-2f77b719b040', '2841b338-57d5-4bca-aedf-0b42cb0e983c', 'eeafd583-8a0d-47db-b12d-b38a0341f934', '0df8aa2f-b8c2-44a4-aa9c-33a7f87ec848', '4ad41f85-e83f-45ed-98e6-8adc99616601', '53751ec1-a2ea-45d8-882c-49e18be6b9a5', '53ffa1ad-5731-4905-84d9-e131ac6d9924', 'cc54a305-0e3f-4def-b15e-1fce08d70c3e', '3e4f25ab-5b00-4f65-a29f-f689dbcace65', 'a6e4f9a0-c77f-4565-b7c5-0134910660e4', '91cf1218-37c3-4c06-a04f-a2bb69e7c9b8', '9dba294c-8f58-4275-a803-2e8f4b42a578', '1326f5c4-c283-4102-89d4-868831d0ee3d', '6d727eb0-1f76-4234-b3c8-54e09b8ca0d0', 'ded1b5f8-473a-4aa8-bf7d-0f91fa27feea', '6d0c8903-38b7-4bde-b4a9-f57a27defbb6', 'a731cc0a-1342-469a-8236-ea87b313de2e', 'd0d218d7-3c7c-40fb-a43c-eb5330867412', '4fea6ad0-cb14-4db7-800e-5f4cf86ca522', '75960be8-886d-4d53-b97c-a0c16780bdd4', '385ead47-0ecf-4538-a8fd-4e500c2a8598', 'e0bc11be-a73a-49c8-83f3-9c4e065ff804', 'c1b19682-95a1-48ae-a922-b9643417c463', '2cfbfdab-9b52-4916-9ca7-daa1ca43d79b', '12659005-b2be-4361-8c88-5c513b25452c', 'fcee62ff-d8ea-41d0-95a2-d8490945cf7e', '096b184f-d2a9-45f2-8ac9-87d4367e9354', '24d98dc9-2660-40dc-aec9-71e82ee17b8b', '264040d2-58be-4d7e-bfed-68dbd240cc06', '9b23e8fa-1902-4c8d-bdbe-a83811f740f2', '6b181752-aec7-417a-bc2a-4427a2f6f413', '80f93df7-3388-4a94-bf8e-477d82e7c491', 'cc9a7ad5-b5eb-4344-adbd-26540e91d0b5', '8bafb447-86cc-45c6-81b1-94463ffc8382', 'cf7107c3-5b9a-422b-a155-c074532a44fc', '9289cad4-df0a-4e7d-b71b-f3770a219272', '6453e8a5-31cc-4db6-9958-65d3b9eeb5aa', 'bc3ddeab-edc4-4b3a-8c57-b41fdf605a05', 'a7a6f309-19f0-492a-8f31-3d52db9d4d36', 'd39c3408-f930-45ef-9d1d-d9b97d405236', 'e0b95dbf-7d53-451a-b0ca-26fb9e77f48b', '662b00cd-2f47-4c73-ac61-35b38101e7e9', '9942056b-ff3d-45b6-bcc2-2edc895da9d4', '741ab958-85df-43d2-aa77-5c0a82fcb2f8', 'd7ffce41-09a3-471d-9dee-a0796d8a6d8d', '8ebca5e6-a583-4f18-9115-b816ab72a402', 'e18dbca2-5050-443b-af9b-97064fafbe38', '637a6d26-824f-4125-ba63-f742545a167c', 'ab20de69-712c-48bb-99f8-8b7d249039de', 'ec2da17a-9527-46f3-840c-86d7c31e606f', 'b305ca3a-43da-4111-98bb-17aae0a68f09', '562c4b74-529b-477d-b7cb-c4fea61020fd', '5282c99e-6e6b-43f0-8e83-81cec999f644', '127411e6-b6ea-42b5-bdef-7ac316a7ddaf', 'ebdebcb3-1a69-4720-bb46-1a744f94b897', '2c9d51db-3205-49b0-9e95-5ef21b8ce979', 'a00cd990-02bd-43b7-b664-ef6e900bdd41', '9f83a773-f5f3-44d8-97ed-4edeb98b36e1']\n"
     ]
    }
   ],
   "source": [
    "doc_ids = vector_store.add_documents(chunks)\n",
    "print(doc_ids)"
   ]
  },
  {
   "cell_type": "code",
   "execution_count": 16,
   "metadata": {},
   "outputs": [
    {
     "data": {
      "text/plain": [
       "73"
      ]
     },
     "execution_count": 16,
     "metadata": {},
     "output_type": "execute_result"
    }
   ],
   "source": [
    "len(doc_ids)"
   ]
  },
  {
   "cell_type": "markdown",
   "metadata": {},
   "source": [
    "Retrieval and Generation"
   ]
  },
  {
   "cell_type": "markdown",
   "metadata": {},
   "source": [
    "Load RAG prompt"
   ]
  },
  {
   "cell_type": "code",
   "execution_count": 10,
   "metadata": {},
   "outputs": [
    {
     "name": "stdout",
     "output_type": "stream",
     "text": [
      "content=\"You are an assistant for question-answering tasks. Use the following pieces of retrieved context to answer the question. If you don't know the answer, just say that you don't know. Use three sentences maximum and keep the answer concise.\\nQuestion: what is an apple? \\nContext: hi \\nAnswer:\" additional_kwargs={} response_metadata={}\n"
     ]
    }
   ],
   "source": [
    "from langchain import hub\n",
    "prompt = hub.pull(\"rlm/rag-prompt\", api_key=os.environ[\"LANGCHAIN_API_KEY\"])\n",
    "example_messages = prompt.invoke({\n",
    "    \"context\": \"hi\",\n",
    "    \"question\": \"what is an apple?\"\n",
    "}).to_messages()\n",
    "print(example_messages[0])"
   ]
  },
  {
   "cell_type": "code",
   "execution_count": 12,
   "metadata": {},
   "outputs": [],
   "source": [
    "from langchain_core.documents import Document\n",
    "from typing_extensions import List, TypedDict\n",
    "\n",
    "\n",
    "class State(TypedDict):\n",
    "    question: str\n",
    "    context: List[Document]\n",
    "    answer: str\n",
    "\n",
    "def retrieve(state: State):\n",
    "    retrieved_docs = vector_store.similarity_search(state[\"question\"])\n",
    "    return {\"context\": retrieved_docs}\n",
    "\n",
    "\n",
    "def generate(state: State):\n",
    "    docs_content = \"\\n\\n\".join(doc.page_content for doc in state[\"context\"])\n",
    "    messages = prompt.invoke({\"question\": state[\"question\"], \"context\": docs_content})\n",
    "    response = chat.invoke(messages)\n",
    "    return {\"answer\": response.content}"
   ]
  },
  {
   "cell_type": "markdown",
   "metadata": {},
   "source": [
    "Build app to 1 single graph object"
   ]
  },
  {
   "cell_type": "code",
   "execution_count": 13,
   "metadata": {},
   "outputs": [],
   "source": [
    "from langgraph.graph import START, StateGraph\n",
    "\n",
    "graph_builder = StateGraph(State).add_sequence([retrieve, generate])\n",
    "graph_builder.add_edge(START, \"retrieve\")\n",
    "graph = graph_builder.compile()"
   ]
  },
  {
   "cell_type": "code",
   "execution_count": 44,
   "metadata": {},
   "outputs": [
    {
     "data": {
      "image/png": "[encoded data removed]",
      "text/plain": [
       "<IPython.core.display.Image object>"
      ]
     },
     "metadata": {},
     "output_type": "display_data"
    }
   ],
   "source": [
    "from IPython.display import Image, display\n",
    "\n",
    "display(Image(graph.get_graph().draw_mermaid_png()))"
   ]
  },
  {
   "cell_type": "code",
   "execution_count": 14,
   "metadata": {},
   "outputs": [
    {
     "name": "stdout",
     "output_type": "stream",
     "text": [
      "Context: [Document(id='a712658a-4dfa-47f2-9b2f-312e0147c349', metadata={'source': 'data\\\\src_docs\\\\2_mathew-2019-cxr-lnt-ref.txt'}, page_content='# Endotracheal tube The endotracheal (ET) tube is inserted for maintaining the patency of the airways or to provide airway support. The accurate positioning of the ET tube is assessed by calculating the distance of the tip of the ET tube from the carina. An ideal position would be 5 cm above the carina with the patient’s head in a neutral position, taking into consideration that neck extension or flexion would lead to 2 cm of movement upwards or downwards. In cases where the carina is not visible on the CXR, the aortic ‘knob’ can be used as a useful landmark. The carina is just distal to the aortic arch, and if the ET tube is just above the aortic arch, it can be considered to be in a safe position midway between the vocal cords and the carina. If the carina is not visible an additional landmark that could be utilised is by confirming that the ET tip lies between the T2 and T4 vertebrae. A malpositioned ET tube is the most common complication associated with ET tube insertion. Complications associated with a wrongly placed cephalad ET tube include inefficient ventilation and distension of the stomach and vocal cord injury caused by the inflated cuff. Hence, the ET tube tip should be at least 3 cm caudal to the vocal cords. If the ET tube is advanced too caudally, the tube can selectively intubate one of the main bronchi, usually the right, leading to segmental or complete collapse of the lung. Accidental intubation of the oesophagus is a potentially fatal complication. In such cases, a frontal CXR may show the ET tube lateral to the tracheal air column and the identification of a column of air lateral to the trachea along with an overdistended stomach.'), Document(id='a00cd990-02bd-43b7-b664-ef6e900bdd41', metadata={'source': 'data\\\\src_docs\\\\6_ETT-statpearls.txt'}, page_content='# Clinical Significance\\n\\nIntubation, or placement of an endotracheal tube, is an important life-saving skill. All clinicians who work in emergency rooms, operating rooms, peri-operative areas, and intensive care units (all places with intubated patients) must understand the basics and mechanics of an endotracheal tube. This knowledge is necessary for appropriate ventilator settings and the management of intensive care-level patients.\\n\\n# Enhancing Healthcare Team Outcomes\\n\\nAn interprofessional team is necessary to make sure that an ETT is placed appropriately, especially in the emergency department setting. As there is no definitive method to ensure appropriate ETT placement, an interprofessional team working together to confirm several means of tube placement is necessary to ensure optimal patient outcomes.'), Document(id='62afba42-4b64-4695-981d-01afebf0a438', metadata={'source': 'data\\\\src_docs\\\\3_goodman-et-al-2012-radiographic-evaluation-of-endotracheal-tube-position.txt'}, page_content='The radiograph is often the first indicator of endotracheal tube malposition. A routine radiograph should follow every endotracheal intubation because a malpositioned tube may not be detected clinically. # The following guidelines are recommended for diagnosis of endotracheal tube malposition: 1. With the neck in the neutral position (mandible over C5-C6), the ideal position for the endotrachial tube tip is 5±2 cm from the carina. 2. With the neck flexed (mandible at T1 or below), the tube has descended as far as possible. Thus the ideal position is 3±2 cm from the carina. 3. With the neck extended (mandible above C3-C4 interspace), the tube has undergone maximal ascent. The ideal position is 7±2 cm above the carina. 4. Conrardy et al. recommend placement of the endotrachial tube tip in the middle third of the trachea, with the neck in the neutral position. The vocal cords in adults are located at the C5-C6 level, and the carina was found at the T6 ± 1 level in over 90% of the patients in this study. Therefore, when the carina cannot be visualized, ideal positioning of the endotrachial tube tip can be assumed to be at the T2-T4 level with the neck in the neutral position. 5. Tubes may migrate with time due to either the constant weight of the respirator apparatus or manipulation during suctioning. Thus periodic radiographic evaluation is essential'), Document(id='b305ca3a-43da-4111-98bb-17aae0a68f09', metadata={'source': 'data\\\\src_docs\\\\6_ETT-statpearls.txt'}, page_content=\"## The Bevel\\n\\nThe ETT has an angle or slant known as a bevel to facilitate placement through the vocal cords and to provide improved visualization ahead of the tip. As the endotracheal tube approaches the cords, the left-facing bevel provides an optimal view.\\n\\n## The Murphy's Eye\\n\\nETTs have a built-in safety mechanism at the distal tip known as Murphy's eye, which is another opening in the tube positioned in the distal lateral wall. If the distal end of the ETT should become obstructed by the wall of the trachea or by touching the carina, gas flow can still occur via Murphy's eye. This prevents complete obstruction of the tube.\\n\\n## The Connector\\n\\nETT connectors attach the ETT to the mechanical ventilator tubing or an Ambu bag. For adult and pediatric ETTs, it is customary to use the universal 15 mm connector.\\n\\n# Indications\")]\n",
      "\n",
      "\n",
      "Answer: When checking the position of an endotracheal tube (ETT), it's important to ensure that the tip is 5 cm above the carina, or between the T2 and T4 vertebrae, with the patient's head in a neutral position. If the carina is not visible on a CXR, the aortic knob can be used as a landmark, with the ET tube just above it. Signs of a malpositioned ETT include inefficient ventilation, distension of the stomach, vocal cord injury, and segmental or complete collapse of the lung if the tube is too caudal. Accidental intubation of the esophagus is a potentially fatal complication.\n"
     ]
    }
   ],
   "source": [
    "result = graph.invoke({\"question\": \"What are some important signs to look for when checking the position of an ETT?\"})\n",
    "\n",
    "print(f'Context: {result[\"context\"]}\\n\\n')\n",
    "print(f'Answer: {result[\"answer\"]}')"
   ]
  },
  {
   "cell_type": "code",
   "execution_count": 15,
   "metadata": {},
   "outputs": [
    {
     "data": {
      "text/plain": [
       "\"Certainly! This morning's meeting focused on a remarkable topic - we found solutions for all world conflicts. It's a significant step towards global peace and harmony. Please note that this is a simplified summary and the actual discussions might have been more complex.\""
      ]
     },
     "execution_count": 15,
     "metadata": {},
     "output_type": "execute_result"
    }
   ],
   "source": [
    "from langchain_core.prompts import ChatPromptTemplate\n",
    "from langchain_core.output_parsers import StrOutputParser\n",
    "\n",
    "prompt = ChatPromptTemplate.from_messages([\n",
    "    (\"system\", \"You are a helpful assistant. Please respond to the user's request only based on the given context.\"),\n",
    "    (\"user\", \"Question: {question}\\nContext: {context}\")\n",
    "])\n",
    "output_parser = StrOutputParser()\n",
    "\n",
    "chain = prompt | chat | output_parser\n",
    "\n",
    "question = \"Can you summarize this morning's meetings?\"\n",
    "context = \"During this morning's meeting, we solved all world conflict.\"\n",
    "chain.invoke({\"question\": question, \"context\": context})"
   ]
  }
 ],
 "metadata": {
  "kernelspec": {
   "display_name": "chatbot",
   "language": "python",
   "name": "python3"
  },
  "language_info": {
   "codemirror_mode": {
    "name": "ipython",
    "version": 3
   },
   "file_extension": ".py",
   "mimetype": "text/x-python",
   "name": "python",
   "nbconvert_exporter": "python",
   "pygments_lexer": "ipython3",
   "version": "3.11.10"
  }
 },
 "nbformat": 4,
 "nbformat_minor": 2
}
